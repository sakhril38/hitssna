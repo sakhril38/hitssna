{
 "cells": [
  {
   "cell_type": "code",
   "execution_count": null,
   "metadata": {},
   "outputs": [],
   "source": [
    "Coding Algoritma Hits:\n",
    "import networkx as nx \n",
    "import matplotlib.pyplot as plt \n",
    "\n",
    "def main():\n",
    "    G = nx.read_edgelist('coba.txt', create_using=nx.DiGraph())\n",
    "\n",
    "    deg = dict(G.in_degree()) #Returns a dictionay, with key as nodes and indegrees as values.\n",
    "    hi,ai=nx.hits(G)\n",
    "    for i in deg.keys():\n",
    "        print(hi,ai)\n",
    "main()"
   ]
  }
 ],
 "metadata": {
  "kernelspec": {
   "display_name": "Python 3",
   "language": "python",
   "name": "python3"
  },
  "language_info": {
   "codemirror_mode": {
    "name": "ipython",
    "version": 3
   },
   "file_extension": ".py",
   "mimetype": "text/x-python",
   "name": "python",
   "nbconvert_exporter": "python",
   "pygments_lexer": "ipython3",
   "version": "3.6.6"
  }
 },
 "nbformat": 4,
 "nbformat_minor": 2
}
